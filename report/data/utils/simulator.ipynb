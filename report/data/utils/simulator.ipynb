{
 "cells": [
  {
   "cell_type": "code",
   "execution_count": 1,
   "metadata": {},
   "outputs": [],
   "source": [
    "import json"
   ]
  },
  {
   "cell_type": "code",
   "execution_count": 2,
   "metadata": {},
   "outputs": [],
   "source": [
    "with open(\"../mock_dogs_db/db_combined_n177.json\", \"r\") as json_file:\n",
    "    DOGS = json.load(json_file)"
   ]
  },
  {
   "cell_type": "code",
   "execution_count": 3,
   "metadata": {},
   "outputs": [],
   "source": [
    "def interpretation(value):\n",
    "\n",
    "    translation = {word:no for word, no in zip([\"zero\", \"one\", \"two\", \"three\", \"four\", \"five\"], [0,1,2,3,4,5])}\n",
    "\n",
    "    value = translation[value]\n",
    "\n",
    "    if value >= 3:\n",
    "        interpret = list(range(value, 6))\n",
    "    if value <= 2:\n",
    "        interpret = list(range(0, value+1))\n",
    "    return interpret"
   ]
  },
  {
   "cell_type": "code",
   "execution_count": 4,
   "metadata": {},
   "outputs": [],
   "source": [
    "def filter_dogs(scores, db=DOGS):\n",
    "\n",
    "    scores = [(feat, score) for feat, score in scores if score != None]\n",
    "\n",
    "    if scores == []:\n",
    "        return set([dog[\"name\"] for dog in db])\n",
    "    else:\n",
    "        hits=set()\n",
    "        for i, (feature, score) in enumerate(scores):\n",
    "            score_meaning = interpretation(score)\n",
    "            if i == 0:\n",
    "                hits.update([dog[\"name\"] for dog in db if dog[feature] in score_meaning])\n",
    "\n",
    "            else:\n",
    "                new_dogs = [dog[\"name\"] for dog in db if dog[feature] in score_meaning]\n",
    "                hits = hits.intersection(new_dogs)\n",
    "        \n",
    "        return hits"
   ]
  },
  {
   "cell_type": "code",
   "execution_count": 5,
   "metadata": {},
   "outputs": [],
   "source": [
    "def filler(score):\n",
    "    global scoreboard\n",
    "    \n",
    "    for i, (feat, value) in enumerate(scoreboard):\n",
    "        if value == None:\n",
    "            # does feat=value not exist for any dog, then break\n",
    "            snoop_dog = [dog[\"name\"] for dog in DOGS if int(dog[feat]) in interpretation(score) and dog[\"name\"] in remaining_dogs]\n",
    "            if len(snoop_dog) > 0:\n",
    "                scoreboard[i] = (feat, score)\n",
    "                break\n",
    "            else:\n",
    "                print(\"NO DOG MATCH!\")\n",
    "                break"
   ]
  },
  {
   "cell_type": "code",
   "execution_count": 6,
   "metadata": {},
   "outputs": [],
   "source": [
    "def go_lden_retriever(dog2feature=\"name\", name=None, feature2dog=None, multiple_conditions=None, database=\"local\"):\n",
    "\n",
    "    if database == \"local\":\n",
    "        if multiple_conditions != None: # gets the dog names (list) of dogs having a value on param feature2dog that is in param multiple_conditions \n",
    "            dogs_in_the_yard = [dog[\"name\"] for dog in DOGS if dog[feature2dog] in multiple_conditions] \n",
    "        if dog2feature == None: # gets the dict/json for the dog named by param name (single element of list) \n",
    "            dogs_in_the_yard = [dog for dog in DOGS if dog[\"name\"] == name] \n",
    "        if name == None and feature2dog==None: # gets all dog names in the database; NOT POSSIBLE FOR API\n",
    "            dogs_in_the_yard = [dog[\"name\"] for dog in DOGS]\n",
    "        if dog2feature != None and name != None: # gets the score for a feature defined by param dog2feature of a dog named by param name\n",
    "            dogs_in_the_yard = [dog[dog2feature] for dog in DOGS if dog[\"name\"] == name]\n",
    "\n",
    "    return dogs_in_the_yard"
   ]
  },
  {
   "cell_type": "code",
   "execution_count": 7,
   "metadata": {},
   "outputs": [],
   "source": [
    "def json2content(json):\n",
    "\n",
    "    tr_scale = [\"very hard to\", \"hard to\", \"quite hard\", \"easy\", \"quite easy\", \"very easy\"]\n",
    "    sh_ba_scale = [\"almost nothing\", \"very litte\", \"little\", \"to some extent\", \"much\", \"very much\"]\n",
    "    en_scale = [\"very low\", \"low\", \"quite low\", \"quite high\", \"high\", \"very high\"]\n",
    "    pr_scale = [\"very much not\", \"quite not\", \"somewhat not\", \"somewhat\", \"quite\", \"very\"]\n",
    "    go_scale = [\"extremly bad\", \"very bad\", \"bad\", \"good\", \"very good\", \"extremly good\"]\n",
    "\n",
    "    content = f\"{json['name']} is a dog which is {tr_scale[int(json['trainability'])]} to train. It sheds {sh_ba_scale[int(json['shedding'])]}. It is {en_scale[int(json['energy'])]} in energy and barks {sh_ba_scale[int(json['barking'])]}. It is {pr_scale[int(json['protectiveness'])]} protective. It is {go_scale[int(json['good_with_children'])]} with children\"\n",
    "\n",
    "    return content"
   ]
  },
  {
   "cell_type": "code",
   "execution_count": 8,
   "metadata": {},
   "outputs": [],
   "source": [
    "def dog_describer(my_dog):\n",
    "    data_entry = go_lden_retriever(dog2feature=None, name=my_dog, feature2dog=\"name\")[0]\n",
    "    content = json2content(data_entry)\n",
    "    return content"
   ]
  },
  {
   "cell_type": "code",
   "execution_count": 9,
   "metadata": {},
   "outputs": [],
   "source": [
    "def get_comparison(target, compare_with, feature):\n",
    "\n",
    "    trg_value = int(go_lden_retriever(dog2feature=feature, name=target, feature2dog=\"name\")[0])\n",
    "    lm_value  = int(go_lden_retriever(dog2feature=feature, name=compare_with, feature2dog=\"name\")[0])\n",
    "\n",
    "    if trg_value-lm_value == 0:\n",
    "        evaluation = \"zero\"\n",
    "    else:\n",
    "        if trg_value>lm_value:\n",
    "            evaluation = \"pos\"\n",
    "        else:\n",
    "            evaluation = \"neg\"\n",
    "\n",
    "    semantics = {\n",
    "    \"trainability\": {\n",
    "        \"pos\": \"is easier to train than\",\n",
    "        \"neg\": \"is harder to train than\",\n",
    "        \"zero\": \"is as easy to train as\",\n",
    "        }, \n",
    "    \"shedding\": {\n",
    "        \"pos\": \"sheds more than\",\n",
    "        \"neg\": \"sheds less than\",\n",
    "        \"zero\": \"sheds as much as\",\n",
    "        },  \n",
    "    \"energy\": {\n",
    "        \"pos\": \"has more energy than\",\n",
    "        \"neg\": \"has less energy than\",\n",
    "        \"zero\": \"has as much energy as\",\n",
    "        }, \n",
    "    \"barking\": {\n",
    "        \"pos\": \"barks more than\",\n",
    "        \"neg\": \"barks less than\",\n",
    "        \"zero\": \"barks as much as\",\n",
    "        },  \n",
    "    \"protectiveness\": {\n",
    "        \"pos\": \"is more protective than\",\n",
    "        \"neg\": \"is less protective than\",\n",
    "        \"zero\": \"is as protective as\",\n",
    "        },  \n",
    "    \"good_with_children\": {\n",
    "        \"pos\": \"is better with children than\",\n",
    "        \"neg\": \"is worse with children than\",\n",
    "        \"zero\": \"is as good with children as\",\n",
    "        }\n",
    "    }\n",
    "\n",
    "    comparison = f\"{target} {semantics[feature][evaluation]} {compare_with}\"\n",
    "\n",
    "    return comparison"
   ]
  },
  {
   "cell_type": "code",
   "execution_count": 10,
   "metadata": {},
   "outputs": [],
   "source": [
    "def dog_comparator(target, compare_with, feature):\n",
    "    compare_str = get_comparison(target, compare_with, feature)\n",
    "    return compare_str"
   ]
  },
  {
   "cell_type": "code",
   "execution_count": 11,
   "metadata": {},
   "outputs": [],
   "source": [
    "def get_top(feature, mode, R_set):\n",
    "    R_set = list(R_set)\n",
    "\n",
    "    first_dog = R_set[0]\n",
    "    top_dog = set()\n",
    "    top_dog.add(first_dog)\n",
    "\n",
    "    top_value = [int(x) for x in go_lden_retriever(dog2feature=feature, name=first_dog, feature2dog=\"name\")][0]\n",
    "    for f_dog in R_set[1:]:\n",
    "        dog_json = go_lden_retriever(dog2feature=None, name=f_dog, feature2dog=\"name\")[0]\n",
    "        value = int(dog_json[feature])\n",
    "        if value == top_value:\n",
    "            top_dog.add(dog_json[\"name\"])\n",
    "\n",
    "        if mode == \"most\":\n",
    "            if value > top_value:\n",
    "                top_dog = set()\n",
    "                top_dog.add(dog_json[\"name\"])\n",
    "                top_value = value\n",
    "        if mode == \"least\":\n",
    "            if value < top_value:\n",
    "                top_dog = set()\n",
    "                top_dog.add(dog_json[\"name\"])\n",
    "                top_value = value                              \n",
    "\n",
    "    top_dog = list(top_dog)\n",
    "    return top_dog"
   ]
  },
  {
   "cell_type": "code",
   "execution_count": 12,
   "metadata": {},
   "outputs": [],
   "source": [
    "def say_top(top, feature, pol):\n",
    "\n",
    "    template = {\n",
    "    \"trainability\": \"The ___ trainable dog* & \", \n",
    "    \"shedding\": \"The dog* that shed? the ___ & \",\n",
    "    \"energy\": \"The dog* with ___ energy & \",\n",
    "    \"barking\": \"The dog* that bark? the ___ & \",  \n",
    "    \"protectiveness\": \"The ___ protective dog* & \",  \n",
    "    \"good_with_children\": \"The dog* that & ___ good with children & \"\n",
    "    }\n",
    "\n",
    "    sent = template[feature]\n",
    "    if len(top) > 1: #plural\n",
    "        sent = sent.replace(\"*\", \"s\")\n",
    "        sent = sent.replace(\"&\", \"are\")\n",
    "        sent = sent.replace(\"?\", \"\")\n",
    "    else:\n",
    "        sent = sent.replace(\"*\", \"\")\n",
    "        sent = sent.replace(\"&\", \"is\")\n",
    "        sent = sent.replace(\"?\", \"s\")\n",
    "\n",
    "    sent = sent.replace(\"___\", pol)\n",
    "\n",
    "    sent = sent + \", \".join(top)\n",
    "\n",
    "    return sent"
   ]
  },
  {
   "cell_type": "code",
   "execution_count": 13,
   "metadata": {},
   "outputs": [],
   "source": [
    "def most_dog_finder(feature):\n",
    "    most = get_top(feature, \"most\", remaining_dogs) # a list\n",
    "    most_str = say_top(most, feature, \"most\")   \n",
    "    return most_str\n",
    "\n",
    "\n",
    "def least_dog_finder(feature):\n",
    "    least = get_top(feature, \"least\", remaining_dogs)\n",
    "    least_str = say_top(least, feature, \"least\") \n",
    "    return least_str"
   ]
  },
  {
   "cell_type": "code",
   "execution_count": 14,
   "metadata": {},
   "outputs": [],
   "source": [
    "def f(score):\n",
    "    global remaining_dogs\n",
    "    print(\"Turns left\", 4-len([\"x\" for feat, value in scoreboard if value != None]))\n",
    "    filler(score)\n",
    "    print(\"Scoreboard:\", scoreboard)\n",
    "    remaining_dogs = filter_dogs(scoreboard)\n",
    "    print(\"No of dogs:\", len(remaining_dogs))\n",
    "    print(\"Dogs:\", \", \".join(list(remaining_dogs)[:10]))"
   ]
  },
  {
   "cell_type": "code",
   "execution_count": 17,
   "metadata": {},
   "outputs": [],
   "source": [
    "scoreboard = [\n",
    "    (\"trainability\", None), \n",
    "    (\"shedding\", None), \n",
    "    (\"energy\", None), \n",
    "    (\"barking\", None), \n",
    "    (\"protectiveness\", None)]\n",
    "remaining_dogs = filter_dogs(scoreboard)"
   ]
  },
  {
   "cell_type": "code",
   "execution_count": 23,
   "metadata": {
    "scrolled": true
   },
   "outputs": [
    {
     "name": "stdout",
     "output_type": "stream",
     "text": [
      "Turns left 0\n",
      "NO DOG MATCH!\n",
      "Scoreboard: [('trainability', 'three'), ('shedding', 'one'), ('energy', 'three'), ('barking', 'one'), ('protectiveness', None)]\n",
      "No of dogs: 3\n",
      "Dogs: Bergamasco Sheepdog, Irish Water Spaniel, Briard\n"
     ]
    }
   ],
   "source": [
    "f(\"two\")"
   ]
  },
  {
   "cell_type": "code",
   "execution_count": 24,
   "metadata": {},
   "outputs": [
    {
     "data": {
      "text/plain": [
       "'Briard is a dog which is easy to train. It sheds very litte. It is quite high in energy and barks very litte. It is quite protective. It is good with children'"
      ]
     },
     "execution_count": 24,
     "metadata": {},
     "output_type": "execute_result"
    }
   ],
   "source": [
    "dog_describer(\"Briard\")"
   ]
  },
  {
   "cell_type": "code",
   "execution_count": null,
   "metadata": {},
   "outputs": [],
   "source": [
    "dog_comparator(\"Porcelaine\", \"Golden Retriever\", \"barking\")"
   ]
  },
  {
   "cell_type": "code",
   "execution_count": null,
   "metadata": {},
   "outputs": [],
   "source": [
    "most_dog_finder(\"energy\")"
   ]
  },
  {
   "cell_type": "code",
   "execution_count": null,
   "metadata": {},
   "outputs": [],
   "source": [
    "least_dog_finder(\"barking\")"
   ]
  },
  {
   "cell_type": "code",
   "execution_count": null,
   "metadata": {},
   "outputs": [],
   "source": []
  }
 ],
 "metadata": {
  "kernelspec": {
   "display_name": "Python 3",
   "language": "python",
   "name": "python3"
  },
  "language_info": {
   "codemirror_mode": {
    "name": "ipython",
    "version": 3
   },
   "file_extension": ".py",
   "mimetype": "text/x-python",
   "name": "python",
   "nbconvert_exporter": "python",
   "pygments_lexer": "ipython3",
   "version": "3.8.5"
  }
 },
 "nbformat": 4,
 "nbformat_minor": 4
}
